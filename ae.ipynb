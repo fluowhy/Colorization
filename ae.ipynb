{
 "cells": [
  {
   "cell_type": "code",
   "execution_count": 1,
   "metadata": {},
   "outputs": [],
   "source": [
    "from sklearn.datasets import load_digits\n",
    "import matplotlib.pyplot as plt\n",
    "from sklearn.model_selection import train_test_split\n",
    "import numpy as np\n",
    "from sklearn.preprocessing import StandardScaler\n",
    "import torch\n",
    "import torch.utils.data\n",
    "from sklearn.metrics import confusion_matrix\n",
    "import matplotlib as mpl\n",
    "from sklearn.preprocessing import MinMaxScaler\n",
    "import time"
   ]
  },
  {
   "cell_type": "code",
   "execution_count": 2,
   "metadata": {},
   "outputs": [],
   "source": [
    "ti = time.time()"
   ]
  },
  {
   "cell_type": "code",
   "execution_count": 3,
   "metadata": {},
   "outputs": [],
   "source": [
    "def plot_confusion_matrix(y_true, y_pred, classes,\n",
    "                          normalize=False,\n",
    "                          title=None,\n",
    "                          cmap=plt.cm.Blues):\n",
    "    \"\"\"\n",
    "    This function prints and plots the confusion matrix.\n",
    "    Normalization can be applied by setting `normalize=True`.\n",
    "    \n",
    "    Modified by M. Romero.\n",
    "    Original: https://scikit-learn.org/stable/auto_examples/model_selection/plot_confusion_matrix.html#sphx-glr-auto-examples-model-selection-plot-confusion-matrix-py\n",
    "    \"\"\"\n",
    "    if not title:\n",
    "        if normalize:\n",
    "            title = 'Normalized confusion matrix'\n",
    "        else:\n",
    "            title = 'Confusion matrix, without normalization'\n",
    "\n",
    "    # Compute confusion matrix\n",
    "    cm = confusion_matrix(y_true, y_pred)\n",
    "    # Only use the labels that appear in the data\n",
    "    #classes = classes[unique_labels(y_true, y_pred)]\n",
    "    if normalize:\n",
    "        cm = cm.astype('float') / cm.sum(axis=1)[:, np.newaxis]\n",
    "        print(\"Normalized confusion matrix\")\n",
    "    else:\n",
    "        print('Confusion matrix, without normalization')\n",
    "\n",
    "    fig, ax = plt.subplots(figsize=(10, 10))\n",
    "    im = ax.imshow(cm, interpolation='nearest', cmap=cmap)\n",
    "    ax.figure.colorbar(im, ax=ax)\n",
    "    # We want to show all ticks...\n",
    "    ax.set(xticks=np.arange(cm.shape[1]),\n",
    "           yticks=np.arange(cm.shape[0]),\n",
    "           # ... and label them with the respective list entries\n",
    "           xticklabels=classes, yticklabels=classes,\n",
    "           title=title,\n",
    "           ylabel='True label',\n",
    "           xlabel='Predicted label')\n",
    "\n",
    "    # Rotate the tick labels and set their alignment.\n",
    "    plt.setp(ax.get_xticklabels(), rotation=45, ha=\"right\",\n",
    "             rotation_mode=\"anchor\")\n",
    "\n",
    "    # Loop over data dimensions and create text annotations.\n",
    "    fmt = '.2f' if normalize else 'd'\n",
    "    thresh = cm.max() / 2.\n",
    "    for i in range(cm.shape[0]):\n",
    "        for j in range(cm.shape[1]):\n",
    "            ax.text(j, i, format(cm[i, j], fmt),\n",
    "                    ha=\"center\", va=\"center\",\n",
    "                    color=\"white\" if cm[i, j] > thresh else \"black\")\n",
    "    fig.tight_layout()\n",
    "    return ax"
   ]
  },
  {
   "cell_type": "code",
   "execution_count": 4,
   "metadata": {},
   "outputs": [],
   "source": [
    "mpl.rc(\"font\", size=20)"
   ]
  },
  {
   "cell_type": "markdown",
   "metadata": {},
   "source": [
    "#### Carga del dataset"
   ]
  },
  {
   "cell_type": "code",
   "execution_count": 5,
   "metadata": {},
   "outputs": [],
   "source": [
    "digits = load_digits()\n",
    "targets = digits.target\n",
    "data = digits.data\n",
    "classes = digits.target_names"
   ]
  },
  {
   "cell_type": "markdown",
   "metadata": {},
   "source": [
    "#### Division train-val-test"
   ]
  },
  {
   "cell_type": "code",
   "execution_count": 6,
   "metadata": {},
   "outputs": [
    {
     "name": "stdout",
     "output_type": "stream",
     "text": [
      "train 70 %\n",
      "val 10 %\n",
      "test 20 %\n"
     ]
    }
   ],
   "source": [
    "# train-validation-test split\n",
    "nsamples, ndim = data.shape\n",
    "nlabels = len(classes)\n",
    "indexes = np.arange(nsamples)\n",
    "train_idx, test_idx = train_test_split(indexes, test_size=0.2)\n",
    "train_idx, val_idx = train_test_split(train_idx, test_size=0.1/0.8)\n",
    "\n",
    "print(\"train {:.0f} %\".format(len(train_idx)/nsamples*100))\n",
    "print(\"val {:.0f} %\".format(len(val_idx)/nsamples*100))\n",
    "print(\"test {:.0f} %\".format(len(test_idx)/nsamples*100))\n",
    "\n",
    "x_train = data[train_idx]\n",
    "x_val = data[val_idx]\n",
    "x_test = data[test_idx]\n",
    "\n",
    "y_train = targets[train_idx]\n",
    "y_val = targets[val_idx]\n",
    "y_test = targets[test_idx]"
   ]
  },
  {
   "cell_type": "markdown",
   "metadata": {},
   "source": [
    "#### Normalizacion de datos"
   ]
  },
  {
   "cell_type": "code",
   "execution_count": 7,
   "metadata": {},
   "outputs": [],
   "source": [
    "#scaler = StandardScaler() # (x - mu)/std, (mu, std) = (0, 1)\n",
    "scaler = MinMaxScaler()\n",
    "x_train = scaler.fit_transform(x_train)\n",
    "x_val = scaler.transform(x_val)\n",
    "x_test = scaler.transform(x_test)"
   ]
  },
  {
   "cell_type": "markdown",
   "metadata": {},
   "source": [
    "#### Declaracion de tensores y dispositivo de trabajo"
   ]
  },
  {
   "cell_type": "code",
   "execution_count": 8,
   "metadata": {},
   "outputs": [
    {
     "name": "stdout",
     "output_type": "stream",
     "text": [
      "cpu\n"
     ]
    }
   ],
   "source": [
    "cuda = False\n",
    "device = torch.device(\"cuda:0\" if cuda and torch.cuda.is_available() else \"cpu\")\n",
    "print(device)"
   ]
  },
  {
   "cell_type": "code",
   "execution_count": 9,
   "metadata": {},
   "outputs": [],
   "source": [
    "x_train = torch.tensor(x_train, device=device, dtype=torch.float)\n",
    "x_val = torch.tensor(x_val, device=device, dtype=torch.float)\n",
    "x_test = torch.tensor(x_test, device=device, dtype=torch.float)\n",
    "\n",
    "y_train = torch.tensor(y_train, device=device, dtype=torch.long) # ojo que al utilizar CrossEntropyLoss \n",
    "y_val = torch.tensor(y_val, device=device, dtype=torch.long)     # la entrada debe ser tipo long\n",
    "y_test = torch.tensor(y_test, device=device, dtype=torch.long)"
   ]
  },
  {
   "cell_type": "markdown",
   "metadata": {},
   "source": [
    "#### Declaracion de dataset"
   ]
  },
  {
   "cell_type": "code",
   "execution_count": 10,
   "metadata": {},
   "outputs": [],
   "source": [
    "train_dataset = torch.utils.data.TensorDataset(x_train, y_train)\n",
    "val_dataset = torch.utils.data.TensorDataset(x_val, y_val)\n",
    "test_dataset = torch.utils.data.TensorDataset(x_test, y_test)"
   ]
  },
  {
   "cell_type": "markdown",
   "metadata": {},
   "source": [
    "#### Construccion de red neuronal"
   ]
  },
  {
   "cell_type": "code",
   "execution_count": 11,
   "metadata": {},
   "outputs": [],
   "source": [
    "class MLP(torch.nn.Module):\n",
    "    def __init__(self, ninput, nhidden, nout, bn=False, do=False):\n",
    "        super(MLP, self).__init__()\n",
    "        layers = []\n",
    "        layers.append(torch.nn.Linear(ninput, nhidden))\n",
    "        layers.append(torch.nn.BatchNorm1d(nhidden)) if bn else 0\n",
    "        layers.append(torch.nn.Dropout(0.5)) if do else 0\n",
    "        layers.append(torch.nn.ReLU())\n",
    "        layers.append(torch.nn.Linear(nhidden, nout))\n",
    "        self.mlp = torch.nn.Sequential(*layers)\n",
    "\n",
    "\n",
    "    def forward(self, x):\n",
    "        return self.mlp(x)\n",
    "    \n",
    "    \n",
    "class AE(torch.nn.Module):\n",
    "    def __init__(self, nin, nl, bn=False, do=False):\n",
    "        super(AE, self).__init__()\n",
    "        self.enc1 = torch.nn.Linear(nin, 32)\n",
    "        self.enc2 = torch.nn.Linear(32, nl)\n",
    "        self.dec1 = torch.nn.Linear(32, nin)\n",
    "        self.dec2 = torch.nn.Linear(nl, 32)\n",
    "        self.relu = torch.nn.ReLU()\n",
    "        self.sig = torch.nn.Sigmoid()\n",
    "    \n",
    "    def encode(self, x):\n",
    "        e1 = self.relu(self.enc1(x))\n",
    "        return self.enc2(e1)\n",
    "    \n",
    "    def decode(self, u):\n",
    "        d1 = self.relu(self.dec2(u))\n",
    "        return self.sig(self.dec1(d1))\n",
    "        \n",
    "    def forward(self, x):\n",
    "        l = self.encode(x)\n",
    "        r = self.decode(l)\n",
    "        return l, r"
   ]
  },
  {
   "cell_type": "markdown",
   "metadata": {},
   "source": [
    "#### Decalaracion de hiper parametros"
   ]
  },
  {
   "cell_type": "code",
   "execution_count": 22,
   "metadata": {},
   "outputs": [],
   "source": [
    "lr = 2e-4\n",
    "wd = 0.\n",
    "bs = 10\n",
    "neurons = 100\n",
    "epochs = 200"
   ]
  },
  {
   "cell_type": "markdown",
   "metadata": {},
   "source": [
    "#### Funcion de perdida"
   ]
  },
  {
   "cell_type": "code",
   "execution_count": 23,
   "metadata": {},
   "outputs": [],
   "source": [
    "cel = torch.nn.CrossEntropyLoss()\n",
    "bcel = torch.nn.BCELoss()\n",
    "msel = torch.nn.MSELoss()"
   ]
  },
  {
   "cell_type": "markdown",
   "metadata": {},
   "source": [
    "#### Declaracion de dataloader"
   ]
  },
  {
   "cell_type": "code",
   "execution_count": 24,
   "metadata": {},
   "outputs": [],
   "source": [
    "train_loader = torch.utils.data.DataLoader(train_dataset, batch_size=bs, shuffle=True)\n",
    "val_loader = torch.utils.data.DataLoader(val_dataset, batch_size=bs, shuffle=True)\n",
    "test_loader = torch.utils.data.DataLoader(test_dataset, batch_size=bs, shuffle=True)"
   ]
  },
  {
   "cell_type": "markdown",
   "metadata": {},
   "source": [
    "#### Funcion de entrenamiento"
   ]
  },
  {
   "cell_type": "code",
   "execution_count": 25,
   "metadata": {},
   "outputs": [],
   "source": [
    "def train_my_model(epochs, model, optimizer, loss_function, trainloader, valloader, testloader):\n",
    "    losses = np.zeros((epochs, 3))\n",
    "    best_val_loss = np.inf\n",
    "    for epoch in range(epochs):\n",
    "        train_loss = 0\n",
    "        val_loss = 0\n",
    "        test_loss = 0\n",
    "        model.train()\n",
    "        for i, batch in enumerate(trainloader):\n",
    "            x_in, y_in = batch\n",
    "            _, x_out = model(x_in)\n",
    "            loss = loss_function(x_out, x_in)\n",
    "            loss.backward()\n",
    "            optimizer.step()\n",
    "            train_loss += loss.item()\n",
    "        train_loss /= i + 1\n",
    "        model.eval()\n",
    "        with torch.no_grad():\n",
    "            for i, batch in enumerate(valloader):\n",
    "                x_in, y_in = batch\n",
    "                _, x_out = model(x_in)\n",
    "                loss = loss_function(x_out, x_in)\n",
    "                val_loss += loss.item()\n",
    "            val_loss /= i + 1\n",
    "            for i, batch in enumerate(testloader):\n",
    "                x_in, y_in = batch\n",
    "                _, x_out = model(x_in)\n",
    "                loss = loss_function(x_out, x_in)\n",
    "                test_loss += loss.item()\n",
    "            test_loss /= i + 1\n",
    "        losses[epoch] = [train_loss, val_loss, test_loss]\n",
    "        print(\"Epoch {} Train loss {:.3f} Val loss {:.3f} Test loss {:.3f}\".format(epoch, train_loss, val_loss, test_loss))\n",
    "        if val_loss < best_val_loss:\n",
    "            print(\"Saving\")\n",
    "            torch.save(model.state_dict(), \"models/ae.pth\")\n",
    "            best_val_loss = val_loss\n",
    "    return losses\n",
    "\n",
    "\n",
    "def plot_my_loss(loss, title, ylabel=\"mean cross entropy\"):\n",
    "    plt.figure(figsize=(20, 5))\n",
    "    plt.plot(loss[:, 0], color=\"navy\", label=\"train\")\n",
    "    plt.plot(loss[:, 1], color=\"green\", label=\"val\")\n",
    "    plt.plot(loss[:, 2], color=\"red\", label=\"test\")\n",
    "    plt.xlabel(\"epochs\")\n",
    "    plt.ylabel(ylabel)\n",
    "    plt.title(title)\n",
    "    plt.legend()\n",
    "    plt.ylim([0, 2])\n",
    "    return\n",
    "\n",
    "\n",
    "def eval_my_model(model, test_data):\n",
    "    model.eval()\n",
    "    with torch.no_grad():\n",
    "        xl, x_out = model(test_data)\n",
    "    return xl.cpu().numpy(), x_out.cpu().numpy()"
   ]
  },
  {
   "cell_type": "code",
   "execution_count": 26,
   "metadata": {},
   "outputs": [
    {
     "name": "stdout",
     "output_type": "stream",
     "text": [
      "Epoch 0 Train loss 0.686 Val loss 0.673 Test loss 0.673\n",
      "Saving\n",
      "Epoch 1 Train loss 0.648 Val loss 0.615 Test loss 0.614\n",
      "Saving\n",
      "Epoch 2 Train loss 0.572 Val loss 0.528 Test loss 0.526\n",
      "Saving\n",
      "Epoch 3 Train loss 0.497 Val loss 0.479 Test loss 0.479\n",
      "Saving\n",
      "Epoch 4 Train loss 0.488 Val loss 0.493 Test loss 0.496\n",
      "Epoch 5 Train loss 0.488 Val loss 0.472 Test loss 0.476\n",
      "Saving\n",
      "Epoch 6 Train loss 0.458 Val loss 0.447 Test loss 0.451\n",
      "Saving\n",
      "Epoch 7 Train loss 0.447 Val loss 0.449 Test loss 0.450\n",
      "Epoch 8 Train loss 0.453 Val loss 0.456 Test loss 0.456\n",
      "Epoch 9 Train loss 0.458 Val loss 0.458 Test loss 0.457\n",
      "Epoch 10 Train loss 0.455 Val loss 0.450 Test loss 0.450\n",
      "Epoch 11 Train loss 0.447 Val loss 0.443 Test loss 0.443\n",
      "Saving\n",
      "Epoch 12 Train loss 0.439 Val loss 0.435 Test loss 0.434\n",
      "Saving\n",
      "Epoch 13 Train loss 0.429 Val loss 0.428 Test loss 0.426\n",
      "Saving\n",
      "Epoch 14 Train loss 0.425 Val loss 0.427 Test loss 0.425\n",
      "Saving\n",
      "Epoch 15 Train loss 0.422 Val loss 0.425 Test loss 0.424\n",
      "Saving\n",
      "Epoch 16 Train loss 0.422 Val loss 0.427 Test loss 0.426\n",
      "Epoch 17 Train loss 0.419 Val loss 0.422 Test loss 0.421\n",
      "Saving\n",
      "Epoch 18 Train loss 0.419 Val loss 0.423 Test loss 0.423\n",
      "Epoch 19 Train loss 0.418 Val loss 0.423 Test loss 0.423\n",
      "Epoch 20 Train loss 0.421 Val loss 0.422 Test loss 0.423\n",
      "Saving\n",
      "Epoch 21 Train loss 0.419 Val loss 0.424 Test loss 0.425\n",
      "Epoch 22 Train loss 0.420 Val loss 0.418 Test loss 0.419\n",
      "Saving\n",
      "Epoch 23 Train loss 0.418 Val loss 0.422 Test loss 0.424\n",
      "Epoch 24 Train loss 0.418 Val loss 0.421 Test loss 0.422\n",
      "Epoch 25 Train loss 0.422 Val loss 0.422 Test loss 0.423\n",
      "Epoch 26 Train loss 0.418 Val loss 0.423 Test loss 0.423\n",
      "Epoch 27 Train loss 0.421 Val loss 0.420 Test loss 0.421\n",
      "Epoch 28 Train loss 0.417 Val loss 0.419 Test loss 0.421\n",
      "Epoch 29 Train loss 0.419 Val loss 0.419 Test loss 0.420\n",
      "Epoch 30 Train loss 0.414 Val loss 0.413 Test loss 0.414\n",
      "Saving\n",
      "Epoch 31 Train loss 0.415 Val loss 0.419 Test loss 0.420\n",
      "Epoch 32 Train loss 0.413 Val loss 0.411 Test loss 0.412\n",
      "Saving\n",
      "Epoch 33 Train loss 0.413 Val loss 0.417 Test loss 0.418\n",
      "Epoch 34 Train loss 0.414 Val loss 0.411 Test loss 0.412\n",
      "Epoch 35 Train loss 0.410 Val loss 0.416 Test loss 0.417\n",
      "Epoch 36 Train loss 0.416 Val loss 0.419 Test loss 0.420\n",
      "Epoch 37 Train loss 0.413 Val loss 0.413 Test loss 0.414\n",
      "Epoch 38 Train loss 0.412 Val loss 0.416 Test loss 0.417\n",
      "Epoch 39 Train loss 0.415 Val loss 0.416 Test loss 0.416\n",
      "Epoch 40 Train loss 0.411 Val loss 0.413 Test loss 0.413\n",
      "Epoch 41 Train loss 0.411 Val loss 0.417 Test loss 0.417\n",
      "Epoch 42 Train loss 0.413 Val loss 0.416 Test loss 0.415\n",
      "Epoch 43 Train loss 0.410 Val loss 0.414 Test loss 0.413\n",
      "Epoch 44 Train loss 0.413 Val loss 0.416 Test loss 0.415\n",
      "Epoch 45 Train loss 0.410 Val loss 0.411 Test loss 0.410\n",
      "Epoch 46 Train loss 0.409 Val loss 0.416 Test loss 0.414\n",
      "Epoch 47 Train loss 0.413 Val loss 0.416 Test loss 0.415\n",
      "Epoch 48 Train loss 0.409 Val loss 0.412 Test loss 0.410\n",
      "Epoch 49 Train loss 0.412 Val loss 0.419 Test loss 0.418\n",
      "Epoch 50 Train loss 0.410 Val loss 0.411 Test loss 0.410\n",
      "Saving\n",
      "Epoch 51 Train loss 0.411 Val loss 0.419 Test loss 0.417\n",
      "Epoch 52 Train loss 0.415 Val loss 0.417 Test loss 0.415\n",
      "Epoch 53 Train loss 0.409 Val loss 0.412 Test loss 0.410\n",
      "Epoch 54 Train loss 0.412 Val loss 0.421 Test loss 0.420\n",
      "Epoch 55 Train loss 0.411 Val loss 0.412 Test loss 0.410\n",
      "Epoch 56 Train loss 0.409 Val loss 0.418 Test loss 0.416\n",
      "Epoch 57 Train loss 0.416 Val loss 0.421 Test loss 0.419\n",
      "Epoch 58 Train loss 0.412 Val loss 0.413 Test loss 0.411\n",
      "Epoch 59 Train loss 0.407 Val loss 0.413 Test loss 0.411\n",
      "Epoch 60 Train loss 0.411 Val loss 0.418 Test loss 0.416\n",
      "Epoch 61 Train loss 0.412 Val loss 0.413 Test loss 0.411\n",
      "Epoch 62 Train loss 0.407 Val loss 0.414 Test loss 0.412\n",
      "Epoch 63 Train loss 0.409 Val loss 0.416 Test loss 0.414\n",
      "Epoch 64 Train loss 0.411 Val loss 0.416 Test loss 0.414\n",
      "Epoch 65 Train loss 0.409 Val loss 0.412 Test loss 0.410\n",
      "Epoch 66 Train loss 0.407 Val loss 0.411 Test loss 0.410\n",
      "Saving\n",
      "Epoch 67 Train loss 0.408 Val loss 0.412 Test loss 0.411\n",
      "Epoch 68 Train loss 0.407 Val loss 0.411 Test loss 0.410\n",
      "Epoch 69 Train loss 0.406 Val loss 0.411 Test loss 0.411\n",
      "Epoch 70 Train loss 0.408 Val loss 0.415 Test loss 0.415\n",
      "Epoch 71 Train loss 0.411 Val loss 0.415 Test loss 0.415\n",
      "Epoch 72 Train loss 0.409 Val loss 0.413 Test loss 0.413\n",
      "Epoch 73 Train loss 0.407 Val loss 0.411 Test loss 0.410\n",
      "Epoch 74 Train loss 0.408 Val loss 0.413 Test loss 0.413\n",
      "Epoch 75 Train loss 0.410 Val loss 0.414 Test loss 0.413\n",
      "Epoch 76 Train loss 0.408 Val loss 0.411 Test loss 0.409\n",
      "Epoch 77 Train loss 0.406 Val loss 0.412 Test loss 0.409\n",
      "Epoch 78 Train loss 0.408 Val loss 0.416 Test loss 0.412\n",
      "Epoch 79 Train loss 0.409 Val loss 0.416 Test loss 0.411\n",
      "Epoch 80 Train loss 0.408 Val loss 0.413 Test loss 0.409\n",
      "Epoch 81 Train loss 0.407 Val loss 0.414 Test loss 0.410\n",
      "Epoch 82 Train loss 0.409 Val loss 0.414 Test loss 0.411\n",
      "Epoch 83 Train loss 0.407 Val loss 0.411 Test loss 0.410\n",
      "Epoch 84 Train loss 0.407 Val loss 0.412 Test loss 0.410\n",
      "Epoch 85 Train loss 0.409 Val loss 0.414 Test loss 0.412\n",
      "Epoch 86 Train loss 0.408 Val loss 0.412 Test loss 0.412\n",
      "Epoch 87 Train loss 0.408 Val loss 0.413 Test loss 0.412\n",
      "Epoch 88 Train loss 0.408 Val loss 0.413 Test loss 0.410\n",
      "Epoch 89 Train loss 0.407 Val loss 0.413 Test loss 0.410\n",
      "Epoch 90 Train loss 0.409 Val loss 0.414 Test loss 0.410\n",
      "Epoch 91 Train loss 0.409 Val loss 0.411 Test loss 0.407\n",
      "Saving\n",
      "Epoch 92 Train loss 0.405 Val loss 0.411 Test loss 0.410\n",
      "Epoch 93 Train loss 0.407 Val loss 0.414 Test loss 0.411\n",
      "Epoch 94 Train loss 0.410 Val loss 0.413 Test loss 0.411\n",
      "Epoch 95 Train loss 0.405 Val loss 0.411 Test loss 0.411\n",
      "Epoch 96 Train loss 0.406 Val loss 0.408 Test loss 0.406\n",
      "Saving\n",
      "Epoch 97 Train loss 0.402 Val loss 0.410 Test loss 0.409\n",
      "Epoch 98 Train loss 0.406 Val loss 0.408 Test loss 0.407\n",
      "Epoch 99 Train loss 0.408 Val loss 0.414 Test loss 0.416\n",
      "Epoch 100 Train loss 0.406 Val loss 0.406 Test loss 0.404\n",
      "Saving\n",
      "Epoch 101 Train loss 0.407 Val loss 0.413 Test loss 0.412\n",
      "Epoch 102 Train loss 0.402 Val loss 0.405 Test loss 0.405\n",
      "Saving\n",
      "Epoch 103 Train loss 0.409 Val loss 0.414 Test loss 0.417\n",
      "Epoch 104 Train loss 0.409 Val loss 0.407 Test loss 0.407\n",
      "Epoch 105 Train loss 0.405 Val loss 0.414 Test loss 0.415\n",
      "Epoch 106 Train loss 0.407 Val loss 0.407 Test loss 0.406\n",
      "Epoch 107 Train loss 0.408 Val loss 0.408 Test loss 0.410\n",
      "Epoch 108 Train loss 0.411 Val loss 0.411 Test loss 0.415\n",
      "Epoch 109 Train loss 0.411 Val loss 0.409 Test loss 0.409\n",
      "Epoch 110 Train loss 0.407 Val loss 0.412 Test loss 0.413\n",
      "Epoch 111 Train loss 0.417 Val loss 0.419 Test loss 0.419\n",
      "Epoch 112 Train loss 0.412 Val loss 0.406 Test loss 0.406\n",
      "Epoch 113 Train loss 0.404 Val loss 0.409 Test loss 0.411\n",
      "Epoch 114 Train loss 0.420 Val loss 0.424 Test loss 0.425\n",
      "Epoch 115 Train loss 0.415 Val loss 0.404 Test loss 0.405\n",
      "Saving\n",
      "Epoch 116 Train loss 0.406 Val loss 0.412 Test loss 0.412\n",
      "Epoch 117 Train loss 0.418 Val loss 0.423 Test loss 0.424\n",
      "Epoch 118 Train loss 0.419 Val loss 0.413 Test loss 0.415\n",
      "Epoch 119 Train loss 0.411 Val loss 0.411 Test loss 0.412\n",
      "Epoch 120 Train loss 0.411 Val loss 0.414 Test loss 0.415\n",
      "Epoch 121 Train loss 0.415 Val loss 0.417 Test loss 0.419\n",
      "Epoch 122 Train loss 0.415 Val loss 0.412 Test loss 0.414\n",
      "Epoch 123 Train loss 0.411 Val loss 0.410 Test loss 0.412\n",
      "Epoch 124 Train loss 0.412 Val loss 0.414 Test loss 0.414\n",
      "Epoch 125 Train loss 0.415 Val loss 0.420 Test loss 0.418\n",
      "Epoch 126 Train loss 0.418 Val loss 0.424 Test loss 0.422\n",
      "Epoch 127 Train loss 0.420 Val loss 0.426 Test loss 0.425\n",
      "Epoch 128 Train loss 0.421 Val loss 0.425 Test loss 0.425\n",
      "Epoch 129 Train loss 0.420 Val loss 0.423 Test loss 0.424\n",
      "Epoch 130 Train loss 0.420 Val loss 0.423 Test loss 0.425\n",
      "Epoch 131 Train loss 0.421 Val loss 0.424 Test loss 0.426\n",
      "Epoch 132 Train loss 0.421 Val loss 0.422 Test loss 0.423\n",
      "Epoch 133 Train loss 0.421 Val loss 0.422 Test loss 0.424\n",
      "Epoch 134 Train loss 0.425 Val loss 0.425 Test loss 0.427\n",
      "Epoch 135 Train loss 0.428 Val loss 0.425 Test loss 0.428\n",
      "Epoch 136 Train loss 0.427 Val loss 0.423 Test loss 0.426\n",
      "Epoch 137 Train loss 0.425 Val loss 0.423 Test loss 0.424\n",
      "Epoch 138 Train loss 0.423 Val loss 0.422 Test loss 0.423\n",
      "Epoch 139 Train loss 0.422 Val loss 0.420 Test loss 0.421\n",
      "Epoch 140 Train loss 0.420 Val loss 0.420 Test loss 0.423\n",
      "Epoch 141 Train loss 0.422 Val loss 0.423 Test loss 0.426\n"
     ]
    },
    {
     "name": "stdout",
     "output_type": "stream",
     "text": [
      "Epoch 142 Train loss 0.425 Val loss 0.426 Test loss 0.429\n",
      "Epoch 143 Train loss 0.427 Val loss 0.425 Test loss 0.430\n",
      "Epoch 144 Train loss 0.427 Val loss 0.423 Test loss 0.427\n",
      "Epoch 145 Train loss 0.424 Val loss 0.421 Test loss 0.424\n",
      "Epoch 146 Train loss 0.421 Val loss 0.421 Test loss 0.422\n",
      "Epoch 147 Train loss 0.423 Val loss 0.421 Test loss 0.422\n",
      "Epoch 148 Train loss 0.422 Val loss 0.420 Test loss 0.420\n",
      "Epoch 149 Train loss 0.421 Val loss 0.421 Test loss 0.422\n",
      "Epoch 150 Train loss 0.422 Val loss 0.422 Test loss 0.423\n",
      "Epoch 151 Train loss 0.423 Val loss 0.424 Test loss 0.426\n",
      "Epoch 152 Train loss 0.425 Val loss 0.425 Test loss 0.428\n",
      "Epoch 153 Train loss 0.423 Val loss 0.423 Test loss 0.425\n",
      "Epoch 154 Train loss 0.421 Val loss 0.422 Test loss 0.423\n",
      "Epoch 155 Train loss 0.421 Val loss 0.421 Test loss 0.424\n",
      "Epoch 156 Train loss 0.423 Val loss 0.422 Test loss 0.425\n",
      "Epoch 157 Train loss 0.423 Val loss 0.424 Test loss 0.426\n",
      "Epoch 158 Train loss 0.422 Val loss 0.424 Test loss 0.428\n",
      "Epoch 159 Train loss 0.422 Val loss 0.423 Test loss 0.427\n",
      "Epoch 160 Train loss 0.420 Val loss 0.421 Test loss 0.424\n",
      "Epoch 161 Train loss 0.418 Val loss 0.419 Test loss 0.421\n",
      "Epoch 162 Train loss 0.417 Val loss 0.418 Test loss 0.419\n",
      "Epoch 163 Train loss 0.415 Val loss 0.418 Test loss 0.419\n",
      "Epoch 164 Train loss 0.417 Val loss 0.421 Test loss 0.422\n",
      "Epoch 165 Train loss 0.417 Val loss 0.418 Test loss 0.419\n",
      "Epoch 166 Train loss 0.413 Val loss 0.412 Test loss 0.414\n",
      "Epoch 167 Train loss 0.412 Val loss 0.412 Test loss 0.414\n",
      "Epoch 168 Train loss 0.412 Val loss 0.413 Test loss 0.414\n",
      "Epoch 169 Train loss 0.413 Val loss 0.414 Test loss 0.417\n",
      "Epoch 170 Train loss 0.412 Val loss 0.410 Test loss 0.412\n",
      "Epoch 171 Train loss 0.411 Val loss 0.412 Test loss 0.415\n",
      "Epoch 172 Train loss 0.412 Val loss 0.407 Test loss 0.409\n",
      "Epoch 173 Train loss 0.409 Val loss 0.411 Test loss 0.414\n",
      "Epoch 174 Train loss 0.411 Val loss 0.416 Test loss 0.416\n",
      "Epoch 175 Train loss 0.415 Val loss 0.418 Test loss 0.418\n",
      "Epoch 176 Train loss 0.413 Val loss 0.414 Test loss 0.414\n",
      "Epoch 177 Train loss 0.414 Val loss 0.413 Test loss 0.415\n",
      "Epoch 178 Train loss 0.411 Val loss 0.414 Test loss 0.414\n",
      "Epoch 179 Train loss 0.418 Val loss 0.413 Test loss 0.414\n",
      "Epoch 180 Train loss 0.411 Val loss 0.415 Test loss 0.417\n",
      "Epoch 181 Train loss 0.418 Val loss 0.415 Test loss 0.416\n",
      "Epoch 182 Train loss 0.414 Val loss 0.415 Test loss 0.417\n",
      "Epoch 183 Train loss 0.418 Val loss 0.422 Test loss 0.422\n",
      "Epoch 184 Train loss 0.424 Val loss 0.421 Test loss 0.425\n",
      "Epoch 185 Train loss 0.412 Val loss 0.410 Test loss 0.413\n",
      "Epoch 186 Train loss 0.427 Val loss 0.421 Test loss 0.423\n",
      "Epoch 187 Train loss 0.419 Val loss 0.417 Test loss 0.421\n",
      "Epoch 188 Train loss 0.421 Val loss 0.428 Test loss 0.432\n",
      "Epoch 189 Train loss 0.425 Val loss 0.423 Test loss 0.423\n",
      "Epoch 190 Train loss 0.426 Val loss 0.414 Test loss 0.417\n",
      "Epoch 191 Train loss 0.412 Val loss 0.411 Test loss 0.413\n",
      "Epoch 192 Train loss 0.422 Val loss 0.428 Test loss 0.431\n",
      "Epoch 193 Train loss 0.428 Val loss 0.420 Test loss 0.424\n",
      "Epoch 194 Train loss 0.416 Val loss 0.410 Test loss 0.414\n",
      "Epoch 195 Train loss 0.416 Val loss 0.415 Test loss 0.416\n",
      "Epoch 196 Train loss 0.422 Val loss 0.430 Test loss 0.432\n",
      "Epoch 197 Train loss 0.430 Val loss 0.424 Test loss 0.428\n",
      "Epoch 198 Train loss 0.414 Val loss 0.408 Test loss 0.409\n",
      "Epoch 199 Train loss 0.417 Val loss 0.422 Test loss 0.426\n"
     ]
    },
    {
     "data": {
      "text/plain": [
       "IncompatibleKeys(missing_keys=[], unexpected_keys=[])"
      ]
     },
     "execution_count": 26,
     "metadata": {},
     "output_type": "execute_result"
    }
   ],
   "source": [
    "model_bce = AE(x_train.shape[1], 2).to(device)\n",
    "optimizer_bce = torch.optim.Adamax(model_bce.parameters(), lr=lr, weight_decay=wd)\n",
    "loss_bce = train_my_model(epochs, model_bce, optimizer_bce, bcel, train_loader, val_loader, test_loader)\n",
    "model_bce.load_state_dict(torch.load(\"models/ae.pth\"))"
   ]
  },
  {
   "cell_type": "code",
   "execution_count": 27,
   "metadata": {},
   "outputs": [
    {
     "name": "stdout",
     "output_type": "stream",
     "text": [
      "Epoch 0 Train loss 0.169 Val loss 0.156 Test loss 0.156\n",
      "Saving\n",
      "Epoch 1 Train loss 0.137 Val loss 0.118 Test loss 0.118\n",
      "Saving\n",
      "Epoch 2 Train loss 0.100 Val loss 0.090 Test loss 0.090\n",
      "Saving\n",
      "Epoch 3 Train loss 0.087 Val loss 0.088 Test loss 0.087\n",
      "Saving\n",
      "Epoch 4 Train loss 0.088 Val loss 0.092 Test loss 0.091\n",
      "Epoch 5 Train loss 0.091 Val loss 0.094 Test loss 0.092\n",
      "Epoch 6 Train loss 0.095 Val loss 0.094 Test loss 0.093\n",
      "Epoch 7 Train loss 0.097 Val loss 0.100 Test loss 0.101\n",
      "Epoch 8 Train loss 0.094 Val loss 0.097 Test loss 0.096\n",
      "Epoch 9 Train loss 0.098 Val loss 0.095 Test loss 0.095\n",
      "Epoch 10 Train loss 0.092 Val loss 0.093 Test loss 0.094\n",
      "Epoch 11 Train loss 0.092 Val loss 0.090 Test loss 0.090\n",
      "Epoch 12 Train loss 0.086 Val loss 0.084 Test loss 0.084\n",
      "Saving\n",
      "Epoch 13 Train loss 0.082 Val loss 0.082 Test loss 0.082\n",
      "Saving\n",
      "Epoch 14 Train loss 0.080 Val loss 0.080 Test loss 0.079\n",
      "Saving\n",
      "Epoch 15 Train loss 0.078 Val loss 0.079 Test loss 0.078\n",
      "Saving\n",
      "Epoch 16 Train loss 0.078 Val loss 0.080 Test loss 0.080\n",
      "Epoch 17 Train loss 0.079 Val loss 0.078 Test loss 0.078\n",
      "Saving\n",
      "Epoch 18 Train loss 0.076 Val loss 0.076 Test loss 0.076\n",
      "Saving\n",
      "Epoch 19 Train loss 0.074 Val loss 0.077 Test loss 0.075\n",
      "Epoch 20 Train loss 0.075 Val loss 0.078 Test loss 0.075\n",
      "Epoch 21 Train loss 0.075 Val loss 0.078 Test loss 0.075\n",
      "Epoch 22 Train loss 0.073 Val loss 0.076 Test loss 0.073\n",
      "Saving\n",
      "Epoch 23 Train loss 0.071 Val loss 0.074 Test loss 0.071\n",
      "Saving\n",
      "Epoch 24 Train loss 0.071 Val loss 0.074 Test loss 0.072\n",
      "Saving\n",
      "Epoch 25 Train loss 0.073 Val loss 0.075 Test loss 0.073\n",
      "Epoch 26 Train loss 0.073 Val loss 0.074 Test loss 0.073\n",
      "Epoch 27 Train loss 0.072 Val loss 0.072 Test loss 0.071\n",
      "Saving\n",
      "Epoch 28 Train loss 0.070 Val loss 0.071 Test loss 0.070\n",
      "Saving\n",
      "Epoch 29 Train loss 0.070 Val loss 0.071 Test loss 0.070\n",
      "Saving\n",
      "Epoch 30 Train loss 0.070 Val loss 0.071 Test loss 0.070\n",
      "Saving\n",
      "Epoch 31 Train loss 0.070 Val loss 0.071 Test loss 0.070\n",
      "Epoch 32 Train loss 0.070 Val loss 0.071 Test loss 0.071\n",
      "Epoch 33 Train loss 0.070 Val loss 0.071 Test loss 0.071\n",
      "Saving\n",
      "Epoch 34 Train loss 0.070 Val loss 0.070 Test loss 0.070\n",
      "Saving\n",
      "Epoch 35 Train loss 0.070 Val loss 0.071 Test loss 0.071\n",
      "Epoch 36 Train loss 0.070 Val loss 0.071 Test loss 0.071\n",
      "Epoch 37 Train loss 0.071 Val loss 0.072 Test loss 0.072\n",
      "Epoch 38 Train loss 0.071 Val loss 0.072 Test loss 0.072\n",
      "Epoch 39 Train loss 0.071 Val loss 0.073 Test loss 0.072\n",
      "Epoch 40 Train loss 0.072 Val loss 0.073 Test loss 0.073\n",
      "Epoch 41 Train loss 0.072 Val loss 0.072 Test loss 0.072\n",
      "Epoch 42 Train loss 0.072 Val loss 0.073 Test loss 0.072\n",
      "Epoch 43 Train loss 0.072 Val loss 0.073 Test loss 0.072\n",
      "Epoch 44 Train loss 0.072 Val loss 0.073 Test loss 0.072\n",
      "Epoch 45 Train loss 0.071 Val loss 0.072 Test loss 0.071\n",
      "Epoch 46 Train loss 0.070 Val loss 0.071 Test loss 0.070\n",
      "Epoch 47 Train loss 0.070 Val loss 0.070 Test loss 0.070\n",
      "Saving\n",
      "Epoch 48 Train loss 0.069 Val loss 0.069 Test loss 0.069\n",
      "Saving\n",
      "Epoch 49 Train loss 0.069 Val loss 0.069 Test loss 0.069\n",
      "Saving\n",
      "Epoch 50 Train loss 0.069 Val loss 0.070 Test loss 0.069\n",
      "Epoch 51 Train loss 0.069 Val loss 0.070 Test loss 0.070\n",
      "Epoch 52 Train loss 0.069 Val loss 0.069 Test loss 0.069\n",
      "Saving\n",
      "Epoch 53 Train loss 0.069 Val loss 0.069 Test loss 0.069\n",
      "Saving\n",
      "Epoch 54 Train loss 0.069 Val loss 0.069 Test loss 0.069\n",
      "Saving\n",
      "Epoch 55 Train loss 0.069 Val loss 0.069 Test loss 0.069\n",
      "Saving\n",
      "Epoch 56 Train loss 0.069 Val loss 0.069 Test loss 0.069\n",
      "Epoch 57 Train loss 0.069 Val loss 0.069 Test loss 0.069\n",
      "Epoch 58 Train loss 0.069 Val loss 0.069 Test loss 0.069\n",
      "Epoch 59 Train loss 0.068 Val loss 0.069 Test loss 0.069\n",
      "Epoch 60 Train loss 0.068 Val loss 0.069 Test loss 0.069\n",
      "Epoch 61 Train loss 0.069 Val loss 0.069 Test loss 0.069\n",
      "Epoch 62 Train loss 0.069 Val loss 0.069 Test loss 0.069\n",
      "Epoch 63 Train loss 0.068 Val loss 0.069 Test loss 0.069\n",
      "Epoch 64 Train loss 0.068 Val loss 0.069 Test loss 0.069\n",
      "Epoch 65 Train loss 0.068 Val loss 0.069 Test loss 0.069\n",
      "Epoch 66 Train loss 0.068 Val loss 0.069 Test loss 0.069\n",
      "Epoch 67 Train loss 0.068 Val loss 0.069 Test loss 0.069\n",
      "Saving\n",
      "Epoch 68 Train loss 0.068 Val loss 0.068 Test loss 0.069\n",
      "Saving\n",
      "Epoch 69 Train loss 0.067 Val loss 0.069 Test loss 0.068\n",
      "Epoch 70 Train loss 0.067 Val loss 0.068 Test loss 0.068\n",
      "Saving\n",
      "Epoch 71 Train loss 0.067 Val loss 0.068 Test loss 0.068\n",
      "Saving\n",
      "Epoch 72 Train loss 0.067 Val loss 0.068 Test loss 0.068\n",
      "Saving\n",
      "Epoch 73 Train loss 0.067 Val loss 0.068 Test loss 0.068\n",
      "Saving\n",
      "Epoch 74 Train loss 0.067 Val loss 0.068 Test loss 0.068\n",
      "Saving\n",
      "Epoch 75 Train loss 0.067 Val loss 0.068 Test loss 0.068\n",
      "Epoch 76 Train loss 0.067 Val loss 0.069 Test loss 0.069\n",
      "Epoch 77 Train loss 0.067 Val loss 0.068 Test loss 0.068\n",
      "Epoch 78 Train loss 0.067 Val loss 0.068 Test loss 0.068\n",
      "Epoch 79 Train loss 0.067 Val loss 0.069 Test loss 0.069\n",
      "Epoch 80 Train loss 0.067 Val loss 0.068 Test loss 0.067\n",
      "Epoch 81 Train loss 0.067 Val loss 0.069 Test loss 0.069\n",
      "Epoch 82 Train loss 0.067 Val loss 0.068 Test loss 0.068\n",
      "Epoch 83 Train loss 0.067 Val loss 0.069 Test loss 0.069\n",
      "Epoch 84 Train loss 0.068 Val loss 0.069 Test loss 0.068\n",
      "Epoch 85 Train loss 0.067 Val loss 0.068 Test loss 0.068\n",
      "Epoch 86 Train loss 0.068 Val loss 0.070 Test loss 0.069\n",
      "Epoch 87 Train loss 0.068 Val loss 0.069 Test loss 0.068\n",
      "Epoch 88 Train loss 0.068 Val loss 0.069 Test loss 0.068\n",
      "Epoch 89 Train loss 0.068 Val loss 0.069 Test loss 0.068\n",
      "Epoch 90 Train loss 0.067 Val loss 0.069 Test loss 0.069\n",
      "Epoch 91 Train loss 0.068 Val loss 0.070 Test loss 0.069\n",
      "Epoch 92 Train loss 0.068 Val loss 0.069 Test loss 0.068\n",
      "Epoch 93 Train loss 0.068 Val loss 0.071 Test loss 0.070\n",
      "Epoch 94 Train loss 0.069 Val loss 0.069 Test loss 0.068\n",
      "Epoch 95 Train loss 0.067 Val loss 0.070 Test loss 0.069\n",
      "Epoch 96 Train loss 0.069 Val loss 0.071 Test loss 0.070\n",
      "Epoch 97 Train loss 0.068 Val loss 0.068 Test loss 0.067\n",
      "Epoch 98 Train loss 0.067 Val loss 0.071 Test loss 0.069\n",
      "Epoch 99 Train loss 0.069 Val loss 0.069 Test loss 0.068\n",
      "Epoch 100 Train loss 0.067 Val loss 0.069 Test loss 0.067\n",
      "Epoch 101 Train loss 0.068 Val loss 0.071 Test loss 0.070\n",
      "Epoch 102 Train loss 0.067 Val loss 0.068 Test loss 0.067\n",
      "Epoch 103 Train loss 0.068 Val loss 0.071 Test loss 0.070\n",
      "Epoch 104 Train loss 0.070 Val loss 0.071 Test loss 0.070\n",
      "Epoch 105 Train loss 0.068 Val loss 0.069 Test loss 0.068\n",
      "Epoch 106 Train loss 0.068 Val loss 0.071 Test loss 0.070\n",
      "Epoch 107 Train loss 0.070 Val loss 0.071 Test loss 0.070\n",
      "Epoch 108 Train loss 0.068 Val loss 0.069 Test loss 0.069\n",
      "Epoch 109 Train loss 0.068 Val loss 0.073 Test loss 0.072\n",
      "Epoch 110 Train loss 0.072 Val loss 0.072 Test loss 0.071\n",
      "Epoch 111 Train loss 0.068 Val loss 0.070 Test loss 0.071\n",
      "Epoch 112 Train loss 0.070 Val loss 0.072 Test loss 0.072\n",
      "Epoch 113 Train loss 0.070 Val loss 0.075 Test loss 0.074\n",
      "Epoch 114 Train loss 0.071 Val loss 0.071 Test loss 0.070\n",
      "Epoch 115 Train loss 0.068 Val loss 0.070 Test loss 0.069\n",
      "Epoch 116 Train loss 0.071 Val loss 0.074 Test loss 0.074\n",
      "Epoch 117 Train loss 0.073 Val loss 0.074 Test loss 0.074\n",
      "Epoch 118 Train loss 0.071 Val loss 0.072 Test loss 0.071\n",
      "Epoch 119 Train loss 0.071 Val loss 0.075 Test loss 0.074\n",
      "Epoch 120 Train loss 0.074 Val loss 0.077 Test loss 0.076\n",
      "Epoch 121 Train loss 0.072 Val loss 0.074 Test loss 0.073\n",
      "Epoch 122 Train loss 0.071 Val loss 0.073 Test loss 0.072\n",
      "Epoch 123 Train loss 0.070 Val loss 0.071 Test loss 0.070\n",
      "Epoch 124 Train loss 0.069 Val loss 0.073 Test loss 0.072\n",
      "Epoch 125 Train loss 0.071 Val loss 0.074 Test loss 0.074\n",
      "Epoch 126 Train loss 0.069 Val loss 0.072 Test loss 0.072\n",
      "Epoch 127 Train loss 0.071 Val loss 0.074 Test loss 0.074\n",
      "Epoch 128 Train loss 0.072 Val loss 0.075 Test loss 0.074\n",
      "Epoch 129 Train loss 0.072 Val loss 0.074 Test loss 0.075\n",
      "Epoch 130 Train loss 0.071 Val loss 0.072 Test loss 0.071\n",
      "Epoch 131 Train loss 0.068 Val loss 0.070 Test loss 0.069\n",
      "Epoch 132 Train loss 0.068 Val loss 0.072 Test loss 0.071\n",
      "Epoch 133 Train loss 0.070 Val loss 0.072 Test loss 0.073\n",
      "Epoch 134 Train loss 0.069 Val loss 0.071 Test loss 0.070\n",
      "Epoch 135 Train loss 0.068 Val loss 0.072 Test loss 0.071\n",
      "Epoch 136 Train loss 0.071 Val loss 0.072 Test loss 0.071\n",
      "Epoch 137 Train loss 0.069 Val loss 0.072 Test loss 0.070\n",
      "Epoch 138 Train loss 0.069 Val loss 0.071 Test loss 0.071\n",
      "Epoch 139 Train loss 0.071 Val loss 0.073 Test loss 0.073\n",
      "Epoch 140 Train loss 0.071 Val loss 0.072 Test loss 0.071\n"
     ]
    },
    {
     "name": "stdout",
     "output_type": "stream",
     "text": [
      "Epoch 141 Train loss 0.068 Val loss 0.070 Test loss 0.069\n",
      "Epoch 142 Train loss 0.068 Val loss 0.070 Test loss 0.069\n",
      "Epoch 143 Train loss 0.070 Val loss 0.074 Test loss 0.075\n",
      "Epoch 144 Train loss 0.071 Val loss 0.071 Test loss 0.071\n",
      "Epoch 145 Train loss 0.069 Val loss 0.071 Test loss 0.070\n",
      "Epoch 146 Train loss 0.068 Val loss 0.070 Test loss 0.070\n",
      "Epoch 147 Train loss 0.070 Val loss 0.072 Test loss 0.073\n",
      "Epoch 148 Train loss 0.073 Val loss 0.074 Test loss 0.076\n",
      "Epoch 149 Train loss 0.076 Val loss 0.075 Test loss 0.077\n",
      "Epoch 150 Train loss 0.075 Val loss 0.073 Test loss 0.075\n",
      "Epoch 151 Train loss 0.073 Val loss 0.071 Test loss 0.072\n",
      "Epoch 152 Train loss 0.071 Val loss 0.071 Test loss 0.071\n",
      "Epoch 153 Train loss 0.070 Val loss 0.071 Test loss 0.071\n",
      "Epoch 154 Train loss 0.070 Val loss 0.072 Test loss 0.071\n",
      "Epoch 155 Train loss 0.070 Val loss 0.072 Test loss 0.071\n",
      "Epoch 156 Train loss 0.071 Val loss 0.073 Test loss 0.072\n",
      "Epoch 157 Train loss 0.074 Val loss 0.074 Test loss 0.074\n",
      "Epoch 158 Train loss 0.072 Val loss 0.073 Test loss 0.073\n",
      "Epoch 159 Train loss 0.072 Val loss 0.073 Test loss 0.072\n",
      "Epoch 160 Train loss 0.072 Val loss 0.074 Test loss 0.073\n",
      "Epoch 161 Train loss 0.072 Val loss 0.074 Test loss 0.074\n",
      "Epoch 162 Train loss 0.073 Val loss 0.073 Test loss 0.073\n",
      "Epoch 163 Train loss 0.073 Val loss 0.074 Test loss 0.073\n",
      "Epoch 164 Train loss 0.072 Val loss 0.075 Test loss 0.075\n",
      "Epoch 165 Train loss 0.073 Val loss 0.073 Test loss 0.073\n",
      "Epoch 166 Train loss 0.074 Val loss 0.075 Test loss 0.075\n",
      "Epoch 167 Train loss 0.073 Val loss 0.075 Test loss 0.076\n",
      "Epoch 168 Train loss 0.075 Val loss 0.074 Test loss 0.075\n",
      "Epoch 169 Train loss 0.073 Val loss 0.077 Test loss 0.077\n",
      "Epoch 170 Train loss 0.075 Val loss 0.073 Test loss 0.074\n",
      "Epoch 171 Train loss 0.073 Val loss 0.076 Test loss 0.078\n",
      "Epoch 172 Train loss 0.077 Val loss 0.074 Test loss 0.075\n",
      "Epoch 173 Train loss 0.074 Val loss 0.077 Test loss 0.077\n",
      "Epoch 174 Train loss 0.079 Val loss 0.077 Test loss 0.076\n",
      "Epoch 175 Train loss 0.075 Val loss 0.076 Test loss 0.078\n",
      "Epoch 176 Train loss 0.080 Val loss 0.080 Test loss 0.083\n",
      "Epoch 177 Train loss 0.076 Val loss 0.074 Test loss 0.074\n",
      "Epoch 178 Train loss 0.076 Val loss 0.082 Test loss 0.081\n",
      "Epoch 179 Train loss 0.078 Val loss 0.076 Test loss 0.074\n",
      "Epoch 180 Train loss 0.075 Val loss 0.082 Test loss 0.081\n",
      "Epoch 181 Train loss 0.082 Val loss 0.082 Test loss 0.081\n",
      "Epoch 182 Train loss 0.075 Val loss 0.077 Test loss 0.076\n",
      "Epoch 183 Train loss 0.080 Val loss 0.084 Test loss 0.083\n",
      "Epoch 184 Train loss 0.082 Val loss 0.084 Test loss 0.083\n",
      "Epoch 185 Train loss 0.082 Val loss 0.084 Test loss 0.083\n",
      "Epoch 186 Train loss 0.082 Val loss 0.084 Test loss 0.084\n",
      "Epoch 187 Train loss 0.082 Val loss 0.084 Test loss 0.083\n",
      "Epoch 188 Train loss 0.081 Val loss 0.084 Test loss 0.083\n",
      "Epoch 189 Train loss 0.081 Val loss 0.085 Test loss 0.084\n",
      "Epoch 190 Train loss 0.083 Val loss 0.086 Test loss 0.085\n",
      "Epoch 191 Train loss 0.083 Val loss 0.084 Test loss 0.083\n",
      "Epoch 192 Train loss 0.080 Val loss 0.082 Test loss 0.082\n",
      "Epoch 193 Train loss 0.080 Val loss 0.082 Test loss 0.081\n",
      "Epoch 194 Train loss 0.080 Val loss 0.081 Test loss 0.081\n",
      "Epoch 195 Train loss 0.079 Val loss 0.081 Test loss 0.081\n",
      "Epoch 196 Train loss 0.079 Val loss 0.080 Test loss 0.080\n",
      "Epoch 197 Train loss 0.078 Val loss 0.080 Test loss 0.080\n",
      "Epoch 198 Train loss 0.078 Val loss 0.079 Test loss 0.079\n",
      "Epoch 199 Train loss 0.078 Val loss 0.079 Test loss 0.079\n"
     ]
    },
    {
     "data": {
      "text/plain": [
       "IncompatibleKeys(missing_keys=[], unexpected_keys=[])"
      ]
     },
     "execution_count": 27,
     "metadata": {},
     "output_type": "execute_result"
    }
   ],
   "source": [
    "model_mse = AE(x_train.shape[1], 2).to(device)\n",
    "optimizer_mse = torch.optim.Adamax(model_mse.parameters(), lr=lr, weight_decay=wd)\n",
    "loss_mse = train_my_model(epochs, model_mse, optimizer_mse, msel, train_loader, val_loader, test_loader)\n",
    "model_mse.load_state_dict(torch.load(\"models/ae.pth\"))"
   ]
  },
  {
   "cell_type": "code",
   "execution_count": 28,
   "metadata": {},
   "outputs": [],
   "source": [
    "xl_bce, x_out_bce = eval_my_model(model_bce, x_test)"
   ]
  },
  {
   "cell_type": "code",
   "execution_count": 29,
   "metadata": {},
   "outputs": [],
   "source": [
    "xl_mse, x_out_mse = eval_my_model(model_mse, x_test)"
   ]
  },
  {
   "cell_type": "code",
   "execution_count": 39,
   "metadata": {},
   "outputs": [
    {
     "data": {
      "text/plain": [
       "<matplotlib.image.AxesImage at 0x7f176825a0f0>"
      ]
     },
     "execution_count": 39,
     "metadata": {},
     "output_type": "execute_result"
    },
    {
     "data": {
      "text/plain": [
       "<Figure size 432x288 with 0 Axes>"
      ]
     },
     "metadata": {},
     "output_type": "display_data"
    },
    {
     "data": {
      "text/plain": [
       "<Figure size 432x288 with 0 Axes>"
      ]
     },
     "metadata": {},
     "output_type": "display_data"
    },
    {
     "data": {
      "image/png": "[encoded data removed]",
      "text/plain": [
       "<Figure size 1152x288 with 4 Axes>"
      ]
     },
     "metadata": {
      "needs_background": "light"
     },
     "output_type": "display_data"
    },
    {
     "data": {
      "text/plain": [
       "<Figure size 432x288 with 0 Axes>"
      ]
     },
     "metadata": {},
     "output_type": "display_data"
    },
    {
     "data": {
      "image/png": "[encoded data removed]",
      "text/plain": [
       "<Figure size 1152x288 with 4 Axes>"
      ]
     },
     "metadata": {
      "needs_background": "light"
     },
     "output_type": "display_data"
    }
   ],
   "source": [
    "plt.gray()\n",
    "plt.figure()\n",
    "i1 = np.random.randint(0, x_test.shape[0])\n",
    "i2 = np.random.randint(0, x_test.shape[0])\n",
    "fig, ax = plt.subplots(nrows=1, ncols=4, figsize=(4*4, 4))\n",
    "ax[0].set_title(\"bce_real\")\n",
    "ax[0].imshow(x_test[i1].cpu().numpy().reshape((8, 8)))\n",
    "ax[1].set_title(\"bce_recon\")\n",
    "ax[1].imshow(x_out_bce[i1].reshape((8, 8)))\n",
    "ax[2].set_title(\"bce_real\")\n",
    "ax[2].imshow(x_test[i2].cpu().numpy().reshape((8, 8)))\n",
    "ax[3].set_title(\"bce_recon\")\n",
    "ax[3].imshow(x_out_bce[i2].reshape((8, 8)))\n",
    "plt.figure()\n",
    "fig, ax = plt.subplots(nrows=1, ncols=4, figsize=(4*4, 4))\n",
    "ax[0].set_title(\"bce_real\")\n",
    "ax[0].imshow(x_test[i1].cpu().numpy().reshape((8, 8)))\n",
    "ax[1].set_title(\"bce_recon\")\n",
    "ax[1].imshow(x_out_mse[i1].reshape((8, 8)))\n",
    "ax[2].set_title(\"bce_real\")\n",
    "ax[2].imshow(x_test[i2].cpu().numpy().reshape((8, 8)))\n",
    "ax[3].set_title(\"bce_recon\")\n",
    "ax[3].imshow(x_out_mse[i2].reshape((8, 8)))"
   ]
  },
  {
   "cell_type": "code",
   "execution_count": null,
   "metadata": {},
   "outputs": [],
   "source": []
  }
 ],
 "metadata": {
  "kernelspec": {
   "display_name": "Python 3",
   "language": "python",
   "name": "python3"
  },
  "language_info": {
   "codemirror_mode": {
    "name": "ipython",
    "version": 3
   },
   "file_extension": ".py",
   "mimetype": "text/x-python",
   "name": "python",
   "nbconvert_exporter": "python",
   "pygments_lexer": "ipython3",
   "version": "3.7.3"
  }
 },
 "nbformat": 4,
 "nbformat_minor": 2
}
