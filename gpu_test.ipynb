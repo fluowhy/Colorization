{
 "cells": [
  {
   "cell_type": "code",
   "execution_count": 1,
   "metadata": {},
   "outputs": [],
   "source": [
    "import torch\n",
    "import torchvision\n",
    "import numpy as np\n",
    "import matplotlib.pyplot as plt\n",
    "import matplotlib as mpl"
   ]
  },
  {
   "cell_type": "code",
   "execution_count": 2,
   "metadata": {},
   "outputs": [],
   "source": [
    "mpl.rc(\"font\", size=20)"
   ]
  },
  {
   "cell_type": "code",
   "execution_count": 3,
   "metadata": {},
   "outputs": [
    {
     "name": "stdout",
     "output_type": "stream",
     "text": [
      "cuda:0\n"
     ]
    }
   ],
   "source": [
    "cuda = True\n",
    "device = torch.device(\"cuda:0\" if cuda and torch.cuda.is_available() else \"cpu\")\n",
    "print(device)"
   ]
  },
  {
   "cell_type": "code",
   "execution_count": 20,
   "metadata": {},
   "outputs": [],
   "source": [
    "class MLP(torch.nn.Module):\n",
    "    def __init__(self, ninput, nhidden, nout, bn=False, do=False):\n",
    "        super(MLP, self).__init__()\n",
    "        layers = []\n",
    "        layers.append(torch.nn.Linear(ninput, nhidden))\n",
    "        layers.append(torch.nn.BatchNorm1d(nhidden)) if bn else 0\n",
    "        layers.append(torch.nn.Dropout(0.5)) if do else 0\n",
    "        layers.append(torch.nn.ReLU())\n",
    "        layers.append(torch.nn.Linear(nhidden, nout))\n",
    "        self.mlp = torch.nn.Sequential(*layers)\n",
    "\n",
    "\n",
    "    def forward(self, x):\n",
    "        return self.mlp(x)\n",
    "    \n",
    "    \n",
    "class AE(torch.nn.Module):\n",
    "    def __init__(self, nin, nl, nh):\n",
    "        super(AE, self).__init__()\n",
    "        self.enc1 = torch.nn.Linear(nin, nh)\n",
    "        self.enc2 = torch.nn.Linear(nh, nl)\n",
    "        self.dec1 = torch.nn.Linear(nh, nin)\n",
    "        self.dec2 = torch.nn.Linear(nl, nh)\n",
    "        self.relu = torch.nn.ReLU()\n",
    "        self.sig = torch.nn.Sigmoid()\n",
    "        self.bne1 = torch.nn.BatchNorm1d(nh)\n",
    "        self.bnd1 = torch.nn.BatchNorm1d(nh)\n",
    "    \n",
    "    def encode(self, x):\n",
    "        e1 = self.relu(self.bne1(self.enc1(x)))\n",
    "        return self.enc2(e1)\n",
    "    \n",
    "    def decode(self, u):\n",
    "        d1 = self.relu(self.bnd1(self.dec2(u)))\n",
    "        return self.sig(self.dec1(d1))\n",
    "        \n",
    "    def forward(self, x):\n",
    "        l = self.encode(x)\n",
    "        r = self.decode(l)\n",
    "        return l, r"
   ]
  },
  {
   "cell_type": "code",
   "execution_count": 26,
   "metadata": {},
   "outputs": [],
   "source": [
    "lr = 2e-4\n",
    "wd = 0.\n",
    "bs = 100\n",
    "neurons = 1000\n",
    "nh = 500\n",
    "ld = 100\n",
    "epochs = 20"
   ]
  },
  {
   "cell_type": "code",
   "execution_count": 27,
   "metadata": {},
   "outputs": [
    {
     "name": "stderr",
     "output_type": "stream",
     "text": [
      "/home/mromero/anaconda3/envs/torch/lib/python3.7/site-packages/ipykernel_launcher.py:13: UserWarning: To copy construct from a tensor, it is recommended to use sourceTensor.clone().detach() or sourceTensor.clone().detach().requires_grad_(True), rather than torch.tensor(sourceTensor).\n",
      "  del sys.path[0]\n",
      "/home/mromero/anaconda3/envs/torch/lib/python3.7/site-packages/ipykernel_launcher.py:14: UserWarning: To copy construct from a tensor, it is recommended to use sourceTensor.clone().detach() or sourceTensor.clone().detach().requires_grad_(True), rather than torch.tensor(sourceTensor).\n",
      "  \n"
     ]
    }
   ],
   "source": [
    "transform = [torchvision.transforms.ToTensor()]\n",
    "\n",
    "N = None\n",
    "\n",
    "trainset = torchvision.datasets.MNIST(root=\"datasets/mnist/train\", train=True, download=True, transform=torchvision.transforms.Compose(transform))\n",
    "testset = torchvision.datasets.MNIST(root=\"datasets/mnist/test\", train=False, download=True, transform=torchvision.transforms.Compose(transform))\n",
    "if N != None:\n",
    "    train_tensor = torch.tensor(trainset.data)[:N].float().to(device).reshape(N, -1)/255.\n",
    "    test_tensor = torch.tensor(testset.data)[:N].float().to(device).reshape(N, -1)/255.\n",
    "    trainDataset = torch.utils.data.TensorDataset(train_tensor, trainset.targets[:N].to(device))\n",
    "    testDataset = torch.utils.data.TensorDataset(test_tensor, testset.targets[:N].to(device))\n",
    "else:\n",
    "    train_tensor = torch.tensor(trainset.data).float().to(device).reshape((trainset.data.shape[0], trainset.data.shape[1]**2))/255.\n",
    "    test_tensor = torch.tensor(testset.data).float().to(device).reshape((testset.data.shape[0], testset.data.shape[1]**2))/255.\n",
    "    trainDataset = torch.utils.data.TensorDataset(train_tensor, trainset.targets.to(device))\n",
    "    testDataset = torch.utils.data.TensorDataset(test_tensor, testset.targets.to(device))\n",
    "\n",
    "\n",
    "trainLoader = torch.utils.data.DataLoader(trainDataset, batch_size=bs, shuffle=True)\n",
    "testLoader = torch.utils.data.DataLoader(testDataset, batch_size=bs, shuffle=True)"
   ]
  },
  {
   "cell_type": "code",
   "execution_count": 28,
   "metadata": {},
   "outputs": [],
   "source": [
    "cel = torch.nn.CrossEntropyLoss().to(device)\n",
    "bcel = torch.nn.BCELoss().to(device)\n",
    "msel = torch.nn.MSELoss().to(device)"
   ]
  },
  {
   "cell_type": "code",
   "execution_count": 29,
   "metadata": {},
   "outputs": [],
   "source": [
    "def train_my_model(epochs, model, optimizer, loss_function, trainloader, valloader, testloader):\n",
    "    losses = np.zeros((epochs, 3))\n",
    "    best_val_loss = np.inf\n",
    "    for epoch in range(epochs):\n",
    "        train_loss = 0\n",
    "        val_loss = 0\n",
    "        test_loss = 0\n",
    "        model.train()\n",
    "        for i, batch in enumerate(trainloader):\n",
    "            x_in, y_in = batch\n",
    "            _, x_out = model(x_in)\n",
    "            loss = loss_function(x_out, x_in)\n",
    "            loss.backward()\n",
    "            optimizer.step()\n",
    "            train_loss += loss.item()\n",
    "        train_loss /= i + 1\n",
    "        model.eval()\n",
    "        with torch.no_grad():\n",
    "            if valloader != None:\n",
    "                for i, batch in enumerate(valloader):\n",
    "                    x_in, y_in = batch\n",
    "                    _, x_out = model(x_in)\n",
    "                    loss = loss_function(x_out, x_in)\n",
    "                    val_loss += loss.item()\n",
    "                val_loss /= i + 1\n",
    "            for i, batch in enumerate(testloader):\n",
    "                x_in, y_in = batch\n",
    "                _, x_out = model(x_in)\n",
    "                loss = loss_function(x_out, x_in)\n",
    "                test_loss += loss.item()\n",
    "            test_loss /= i + 1\n",
    "        losses[epoch] = [train_loss, val_loss, test_loss]\n",
    "        print(\"Epoch {} Train loss {:.3f} Val loss {:.3f} Test loss {:.3f}\".format(epoch, train_loss, val_loss, test_loss))\n",
    "        if valloader != None:\n",
    "            if val_loss < best_val_loss:\n",
    "                print(\"Saving\")\n",
    "                torch.save(model.state_dict(), \"models/ae.pth\")\n",
    "                best_val_loss = val_loss\n",
    "        else:\n",
    "            if test_loss < best_val_loss:\n",
    "                print(\"Saving\")\n",
    "                torch.save(model.state_dict(), \"models/ae.pth\")\n",
    "                best_val_loss = test_loss\n",
    "    return losses\n",
    "\n",
    "\n",
    "def plot_my_loss(loss, title, ylabel=\"mean cross entropy\"):\n",
    "    plt.figure(figsize=(20, 5))\n",
    "    plt.plot(loss[:, 0], color=\"navy\", label=\"train\")\n",
    "    plt.plot(loss[:, 1], color=\"green\", label=\"val\")\n",
    "    plt.plot(loss[:, 2], color=\"red\", label=\"test\")\n",
    "    plt.xlabel(\"epochs\")\n",
    "    plt.ylabel(ylabel)\n",
    "    plt.title(title)\n",
    "    plt.legend()\n",
    "    plt.ylim([0, 2])\n",
    "    return\n",
    "\n",
    "\n",
    "def eval_my_model(model, test_data):\n",
    "    model.eval()\n",
    "    with torch.no_grad():\n",
    "        xl, x_out = model(test_data)\n",
    "    return xl.cpu().numpy(), x_out.cpu().numpy()"
   ]
  },
  {
   "cell_type": "code",
   "execution_count": 30,
   "metadata": {},
   "outputs": [
    {
     "name": "stdout",
     "output_type": "stream",
     "text": [
      "# gpus: 4\n",
      "Epoch 0 Train loss 0.264 Val loss 0.000 Test loss 0.196\n",
      "Saving\n",
      "Epoch 1 Train loss 0.195 Val loss 0.000 Test loss 0.174\n",
      "Saving\n",
      "Epoch 2 Train loss 0.179 Val loss 0.000 Test loss 0.160\n",
      "Saving\n",
      "Epoch 3 Train loss 0.165 Val loss 0.000 Test loss 0.150\n",
      "Saving\n",
      "Epoch 4 Train loss 0.156 Val loss 0.000 Test loss 0.145\n",
      "Saving\n",
      "Epoch 5 Train loss 0.153 Val loss 0.000 Test loss 0.141\n",
      "Saving\n",
      "Epoch 6 Train loss 0.150 Val loss 0.000 Test loss 0.139\n",
      "Saving\n",
      "Epoch 7 Train loss 0.147 Val loss 0.000 Test loss 0.136\n",
      "Saving\n",
      "Epoch 8 Train loss 0.145 Val loss 0.000 Test loss 0.134\n",
      "Saving\n",
      "Epoch 9 Train loss 0.143 Val loss 0.000 Test loss 0.133\n",
      "Saving\n",
      "Epoch 10 Train loss 0.142 Val loss 0.000 Test loss 0.131\n",
      "Saving\n",
      "Epoch 11 Train loss 0.141 Val loss 0.000 Test loss 0.130\n",
      "Saving\n",
      "Epoch 12 Train loss 0.141 Val loss 0.000 Test loss 0.131\n",
      "Epoch 13 Train loss 0.140 Val loss 0.000 Test loss 0.130\n",
      "Saving\n",
      "Epoch 14 Train loss 0.140 Val loss 0.000 Test loss 0.130\n",
      "Epoch 15 Train loss 0.140 Val loss 0.000 Test loss 0.130\n",
      "Epoch 16 Train loss 0.139 Val loss 0.000 Test loss 0.129\n",
      "Saving\n",
      "Epoch 17 Train loss 0.139 Val loss 0.000 Test loss 0.129\n",
      "Saving\n",
      "Epoch 18 Train loss 0.139 Val loss 0.000 Test loss 0.128\n",
      "Saving\n",
      "Epoch 19 Train loss 0.139 Val loss 0.000 Test loss 0.129\n"
     ]
    }
   ],
   "source": [
    "model_bce = AE(train_tensor.shape[1], ld, nh)\n",
    "if torch.cuda.device_count() > 1:\n",
    "  print(\"# gpus: {}\".format(torch.cuda.device_count()))\n",
    "  model_bce = torch.nn.DataParallel(model_bce)\n",
    "model_bce.to(device)\n",
    "\n",
    "optimizer_bce = torch.optim.Adamax(model_bce.parameters(), lr=lr, weight_decay=wd)\n",
    "loss_bce = train_my_model(epochs, model_bce, optimizer_bce, bcel, trainLoader, None, testLoader)\n",
    "model_bce.load_state_dict(torch.load(\"models/ae.pth\"))"
   ]
  },
  {
   "cell_type": "code",
   "execution_count": 31,
   "metadata": {},
   "outputs": [
    {
     "name": "stdout",
     "output_type": "stream",
     "text": [
      "# gpus: 4\n",
      "Epoch 0 Train loss 0.061 Val loss 0.000 Test loss 0.039\n",
      "Saving\n",
      "Epoch 1 Train loss 0.040 Val loss 0.000 Test loss 0.036\n",
      "Saving\n",
      "Epoch 2 Train loss 0.038 Val loss 0.000 Test loss 0.034\n",
      "Saving\n",
      "Epoch 3 Train loss 0.036 Val loss 0.000 Test loss 0.032\n",
      "Saving\n",
      "Epoch 4 Train loss 0.034 Val loss 0.000 Test loss 0.030\n",
      "Saving\n",
      "Epoch 5 Train loss 0.033 Val loss 0.000 Test loss 0.028\n",
      "Saving\n",
      "Epoch 6 Train loss 0.031 Val loss 0.000 Test loss 0.027\n",
      "Saving\n",
      "Epoch 7 Train loss 0.030 Val loss 0.000 Test loss 0.026\n",
      "Saving\n",
      "Epoch 8 Train loss 0.029 Val loss 0.000 Test loss 0.025\n",
      "Saving\n",
      "Epoch 9 Train loss 0.028 Val loss 0.000 Test loss 0.025\n",
      "Saving\n",
      "Epoch 10 Train loss 0.028 Val loss 0.000 Test loss 0.024\n",
      "Saving\n",
      "Epoch 11 Train loss 0.027 Val loss 0.000 Test loss 0.024\n",
      "Saving\n",
      "Epoch 12 Train loss 0.027 Val loss 0.000 Test loss 0.023\n",
      "Saving\n",
      "Epoch 13 Train loss 0.026 Val loss 0.000 Test loss 0.023\n",
      "Saving\n",
      "Epoch 14 Train loss 0.026 Val loss 0.000 Test loss 0.023\n",
      "Epoch 15 Train loss 0.026 Val loss 0.000 Test loss 0.023\n",
      "Epoch 16 Train loss 0.026 Val loss 0.000 Test loss 0.023\n",
      "Epoch 17 Train loss 0.026 Val loss 0.000 Test loss 0.023\n",
      "Epoch 18 Train loss 0.026 Val loss 0.000 Test loss 0.023\n",
      "Epoch 19 Train loss 0.026 Val loss 0.000 Test loss 0.023\n"
     ]
    }
   ],
   "source": [
    "model_mse = AE(train_tensor.shape[1], ld, nh)\n",
    "if torch.cuda.device_count() > 1:\n",
    "  print(\"# gpus: {}\".format(torch.cuda.device_count()))\n",
    "  model_mse = torch.nn.DataParallel(model_mse)\n",
    "model_mse.to(device)\n",
    "\n",
    "\n",
    "optimizer_mse = torch.optim.Adamax(model_mse.parameters(), lr=lr, weight_decay=wd)\n",
    "loss_mse = train_my_model(epochs, model_mse, optimizer_mse, msel, trainLoader, None, testLoader)\n",
    "model_mse.load_state_dict(torch.load(\"models/ae.pth\"))"
   ]
  },
  {
   "cell_type": "code",
   "execution_count": 32,
   "metadata": {},
   "outputs": [
    {
     "data": {
      "text/plain": [
       "<matplotlib.image.AxesImage at 0x7f841babccf8>"
      ]
     },
     "execution_count": 32,
     "metadata": {},
     "output_type": "execute_result"
    },
    {
     "data": {
      "text/plain": [
       "<Figure size 432x288 with 0 Axes>"
      ]
     },
     "metadata": {},
     "output_type": "display_data"
    },
    {
     "data": {
      "text/plain": [
       "<Figure size 432x288 with 0 Axes>"
      ]
     },
     "metadata": {},
     "output_type": "display_data"
    },
    {
     "data": {
      "image/png": "[encoded data removed]",
      "text/plain": [
       "<Figure size 1152x288 with 4 Axes>"
      ]
     },
     "metadata": {
      "needs_background": "light"
     },
     "output_type": "display_data"
    },
    {
     "data": {
      "text/plain": [
       "<Figure size 432x288 with 0 Axes>"
      ]
     },
     "metadata": {},
     "output_type": "display_data"
    },
    {
     "data": {
      "image/png": "[encoded data removed]",
      "text/plain": [
       "<Figure size 1152x288 with 4 Axes>"
      ]
     },
     "metadata": {
      "needs_background": "light"
     },
     "output_type": "display_data"
    }
   ],
   "source": [
    "n = 2\n",
    "idx = np.random.choice(np.arange(0, test_tensor.shape[0]), size=n, replace=False)\n",
    "xl_bce, x_out_bce = eval_my_model(model_bce, test_tensor[idx])\n",
    "xl_mse, x_out_mse = eval_my_model(model_mse, test_tensor[idx])\n",
    "\n",
    "plt.gray()\n",
    "plt.figure()\n",
    "rs = 28\n",
    "fig, ax = plt.subplots(nrows=1, ncols=4, figsize=(4*4, 4))\n",
    "ax[0].set_title(\"real\")\n",
    "ax[0].imshow(test_tensor[idx[0]].cpu().numpy().reshape((rs, rs)))\n",
    "ax[1].set_title(\"bce_recon\")\n",
    "ax[1].imshow(x_out_bce[0].reshape((rs, rs)))\n",
    "ax[2].set_title(\"real\")\n",
    "ax[2].imshow(test_tensor[idx[1]].cpu().numpy().reshape((rs,rs)))\n",
    "ax[3].set_title(\"bce_recon\")\n",
    "ax[3].imshow(x_out_bce[1].reshape((rs, rs)))\n",
    "plt.figure()\n",
    "fig, ax = plt.subplots(nrows=1, ncols=4, figsize=(4*4, 4))\n",
    "ax[0].set_title(\"real\")\n",
    "ax[0].imshow(test_tensor[idx[0]].cpu().numpy().reshape((rs, rs)))\n",
    "ax[1].set_title(\"mse_recon\")\n",
    "ax[1].imshow(x_out_mse[0].reshape((rs, rs)))\n",
    "ax[2].set_title(\"real\")\n",
    "ax[2].imshow(test_tensor[idx[1]].cpu().numpy().reshape((rs, rs)))\n",
    "ax[3].set_title(\"mse_recon\")\n",
    "ax[3].imshow(x_out_mse[1].reshape((rs, rs)))"
   ]
  },
  {
   "cell_type": "code",
   "execution_count": null,
   "metadata": {},
   "outputs": [],
   "source": []
  }
 ],
 "metadata": {
  "kernelspec": {
   "display_name": "Python 3",
   "language": "python",
   "name": "python3"
  },
  "language_info": {
   "codemirror_mode": {
    "name": "ipython",
    "version": 3
   },
   "file_extension": ".py",
   "mimetype": "text/x-python",
   "name": "python",
   "nbconvert_exporter": "python",
   "pygments_lexer": "ipython3",
   "version": "3.7.3"
  }
 },
 "nbformat": 4,
 "nbformat_minor": 2
}
